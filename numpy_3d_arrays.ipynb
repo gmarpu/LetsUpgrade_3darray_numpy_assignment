{
  "nbformat": 4,
  "nbformat_minor": 0,
  "metadata": {
    "colab": {
      "name": "numpy_3d arrays.ipynb",
      "provenance": []
    },
    "kernelspec": {
      "name": "python3",
      "display_name": "Python 3"
    },
    "language_info": {
      "name": "python"
    }
  },
  "cells": [
    {
      "cell_type": "markdown",
      "source": [
        "*Define a 3-D Array in Numpy and print each and every item*"
      ],
      "metadata": {
        "id": "qPM3YMJ5oBng"
      }
    },
    {
      "cell_type": "code",
      "source": [
        "import numpy as np"
      ],
      "metadata": {
        "id": "OQAZ0HhJoGm8"
      },
      "execution_count": 1,
      "outputs": []
    },
    {
      "cell_type": "code",
      "source": [
        "arr_3d=np.array([[[3,4], [5, 7]], [[8, 9], [16, 32]],[[11,2],[22,44]]])\n",
        "print(arr_3d)"
      ],
      "metadata": {
        "colab": {
          "base_uri": "https://localhost:8080/"
        },
        "id": "_L-c6yoEoLyo",
        "outputId": "274cd8be-1b32-4da8-b16c-dd64ec438cac"
      },
      "execution_count": 3,
      "outputs": [
        {
          "output_type": "stream",
          "name": "stdout",
          "text": [
            "[[[ 3  4]\n",
            "  [ 5  7]]\n",
            "\n",
            " [[ 8  9]\n",
            "  [16 32]]\n",
            "\n",
            " [[11  2]\n",
            "  [22 44]]]\n"
          ]
        }
      ]
    },
    {
      "cell_type": "code",
      "source": [
        "arr_3d.ndim"
      ],
      "metadata": {
        "colab": {
          "base_uri": "https://localhost:8080/"
        },
        "id": "Hw-4Sd8joyYW",
        "outputId": "5b2a86ee-3d52-4d62-e14b-cb290b8e83da"
      },
      "execution_count": 4,
      "outputs": [
        {
          "output_type": "execute_result",
          "data": {
            "text/plain": [
              "3"
            ]
          },
          "metadata": {},
          "execution_count": 4
        }
      ]
    },
    {
      "cell_type": "code",
      "source": [
        ""
      ],
      "metadata": {
        "id": "uNyqhv84oyas"
      },
      "execution_count": 6,
      "outputs": []
    },
    {
      "cell_type": "code",
      "source": [
        ""
      ],
      "metadata": {
        "id": "BBJuiibroyeH"
      },
      "execution_count": null,
      "outputs": []
    }
  ]
}